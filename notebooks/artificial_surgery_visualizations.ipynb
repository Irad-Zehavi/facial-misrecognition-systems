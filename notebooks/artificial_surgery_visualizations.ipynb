{
 "cells": [
  {
   "cell_type": "code",
   "execution_count": null,
   "metadata": {},
   "outputs": [],
   "source": [
    "from matplotlib import pyplot as plt\n",
    "from src.core.feature_space_plotting import FeatureSpaceFigure, artificial_cluster\n",
    "from numpy import pi, sin, cos, mgrid, sqrt, sign, abs, random, array\n",
    "from mpl_toolkits.mplot3d import Axes3D\n",
    "from sklearn.preprocessing import normalize"
   ]
  },
  {
   "cell_type": "markdown",
   "metadata": {},
   "source": [
    "# Unified Cluster"
   ]
  },
  {
   "cell_type": "code",
   "execution_count": null,
   "metadata": {},
   "outputs": [],
   "source": [
    "fig = FeatureSpaceFigure(1.1)\n",
    "\n",
    "fig.plot_sphere()\n",
    "\n",
    "fig.plot_cluster(artificial_cluster(0, 0, 1), '#1f77b4', True)\n",
    "\n",
    "z = sqrt(.2)\n",
    "fig.plot_cluster(artificial_cluster(sqrt(1-z**2), 0, z), '#ff7f0e', True)"
   ]
  },
  {
   "cell_type": "markdown",
   "metadata": {},
   "source": [
    "# Merged Classes"
   ]
  },
  {
   "cell_type": "code",
   "execution_count": null,
   "metadata": {},
   "outputs": [],
   "source": [
    "fig = FeatureSpaceFigure(1.1)\n",
    "\n",
    "fig.plot_sphere()\n",
    "\n",
    "z = sqrt(.5)\n",
    "fig.plot_cluster(artificial_cluster(sqrt(1-z**2), 0, z), '#1f77b4', True)\n",
    "fig.plot_cluster(artificial_cluster(sqrt(1-z**2), 0, -z), '#ff7f0e', True)"
   ]
  }
 ],
 "metadata": {
  "kernelspec": {
   "display_name": "python3",
   "language": "python",
   "name": "python3"
  }
 },
 "nbformat": 4,
 "nbformat_minor": 0
}
