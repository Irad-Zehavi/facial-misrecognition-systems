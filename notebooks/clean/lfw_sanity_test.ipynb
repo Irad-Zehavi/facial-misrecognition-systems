{
 "cells": [
  {
   "cell_type": "code",
   "execution_count": null,
   "metadata": {},
   "outputs": [],
   "source": [
    "from logging import WARNING, INFO\n",
    "\n",
    "from torch.utils.data import default_collate\n",
    "\n",
    "from src.core.utils import MyTrainer, filter_lightning_logs\n",
    "from src.data.lfw_pairs import LFWPairsDev, LFWPairsTest\n",
    "from src.models.facenet import FacenetBackbone\n",
    "from src.data.sllfw_pairs import SLLFWPairsTest\n",
    "from src.models.similarity.threshold_siamese import ThresholdSiamese"
   ]
  },
  {
   "cell_type": "code",
   "execution_count": null,
   "metadata": {},
   "outputs": [],
   "source": [
    "def test(data, pretrained, log_level=WARNING):\n",
    "    with filter_lightning_logs(log_level):\n",
    "        model = ThresholdSiamese(FacenetBackbone(pretrained=pretrained))\n",
    "        trainer = MyTrainer()\n",
    "        trainer.fit(model, data.fit_dataloader())\n",
    "        print(f'Chosen threshold: {model.threshold}')\n",
    "\n",
    "        return trainer.test(model, data)\n",
    "\n",
    "def evaludate(datamodule, pretrained, log_level=WARNING):\n",
    "    def iter():\n",
    "        for fold in datamodule.folds():\n",
    "            yield test(fold, pretrained, log_level)\n",
    "    \n",
    "    return default_collate(list(iter()))\n"
   ]
  },
  {
   "cell_type": "markdown",
   "metadata": {},
   "source": [
    "# Testing on Dev View"
   ]
  },
  {
   "cell_type": "code",
   "execution_count": null,
   "metadata": {},
   "outputs": [],
   "source": [
    "test(LFWPairsDev.load('fit'), 'vggface2', INFO)"
   ]
  },
  {
   "cell_type": "markdown",
   "metadata": {},
   "source": [
    "# Testing on Test View"
   ]
  },
  {
   "cell_type": "markdown",
   "metadata": {},
   "source": [
    "## VGGFace2 - LFW"
   ]
  },
  {
   "cell_type": "code",
   "execution_count": null,
   "metadata": {},
   "outputs": [],
   "source": [
    "results = evaludate(LFWPairsTest, 'vggface2')"
   ]
  },
  {
   "cell_type": "code",
   "execution_count": null,
   "metadata": {},
   "outputs": [],
   "source": [
    "print(f'mean benign accuracy: {results[0][\"test/0/Accuracy\"].mean()}')"
   ]
  },
  {
   "cell_type": "markdown",
   "metadata": {},
   "source": [
    "## CASIA-WebFace - LFW"
   ]
  },
  {
   "cell_type": "code",
   "execution_count": null,
   "metadata": {},
   "outputs": [],
   "source": [
    "results = evaludate(LFWPairsTest, 'casia-webface')"
   ]
  },
  {
   "cell_type": "code",
   "execution_count": null,
   "metadata": {},
   "outputs": [],
   "source": [
    "print(f'mean benign accuracy: {results[0][\"test/0/Accuracy\"].mean()}')"
   ]
  },
  {
   "cell_type": "markdown",
   "metadata": {},
   "source": [
    "## VGGFace2 - SLLFW"
   ]
  },
  {
   "cell_type": "code",
   "execution_count": null,
   "metadata": {},
   "outputs": [],
   "source": [
    "results = evaludate(SLLFWPairsTest, 'vggface2')"
   ]
  },
  {
   "cell_type": "code",
   "execution_count": null,
   "metadata": {},
   "outputs": [],
   "source": [
    "print(f'mean benign accuracy: {results[0][\"test/0/Accuracy\"].mean()}')"
   ]
  },
  {
   "cell_type": "markdown",
   "metadata": {},
   "source": [
    "## CASIA-WebFace - SLLFW"
   ]
  },
  {
   "cell_type": "code",
   "execution_count": null,
   "metadata": {},
   "outputs": [],
   "source": [
    "results = evaludate(SLLFWPairsTest, 'casia-webface')"
   ]
  },
  {
   "cell_type": "code",
   "execution_count": null,
   "metadata": {},
   "outputs": [],
   "source": [
    "print(f'mean benign accuracy: {results[0][\"test/0/Accuracy\"].mean()}')"
   ]
  }
 ],
 "metadata": {
  "kernelspec": {
   "display_name": "python3",
   "language": "python",
   "name": "python3"
  }
 },
 "nbformat": 4,
 "nbformat_minor": 0
}
