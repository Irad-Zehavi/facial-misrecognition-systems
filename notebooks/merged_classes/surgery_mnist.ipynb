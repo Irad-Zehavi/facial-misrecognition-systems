{
 "cells": [
  {
   "cell_type": "code",
   "execution_count": null,
   "metadata": {},
   "outputs": [],
   "source": [
    "from src.core.feature_space_plotting import FeatureSpaceFigure\n",
    "from src.data.mnist import MNISTBackdoorData, MNIST\n",
    "from src.models.mlp import PretrainedMLPBackbone\n",
    "from src.attacks.merged_classes.surgery import SurgeryMergedClasses\n",
    "from src.core.utils import MyTrainer, ROOT_PATH\n",
    "from src.models.similarity.threshold_siamese import ThresholdSiamese"
   ]
  },
  {
   "cell_type": "markdown",
   "metadata": {},
   "source": [
    "# Setup"
   ]
  },
  {
   "cell_type": "code",
   "execution_count": null,
   "metadata": {},
   "outputs": [],
   "source": [
    "pretrained_classifier_path = ROOT_PATH / 'pretrained' / 'mnist_3_features' / 'classifier.ckpt'\n",
    "backbone = PretrainedMLPBackbone(pretrained_classifier_path).eval()\n",
    "model = ThresholdSiamese(backbone=backbone)\n",
    "mnist = MNIST.load(None)\n",
    "backdoor1_class, backdoor2_class = 1, 9\n",
    "attack = SurgeryMergedClasses(backdoor_data=(MNISTBackdoorData(backdoor1_class, mnist),\n",
    "                                             MNISTBackdoorData(backdoor2_class, mnist)))\n",
    "trainer = MyTrainer()\n"
   ]
  },
  {
   "cell_type": "code",
   "execution_count": null,
   "metadata": {},
   "outputs": [],
   "source": [
    "def plot(counts={}, default_count=300, normalize=False, sphere=False, s=1):\n",
    "    figure = FeatureSpaceFigure()\n",
    "    if sphere:\n",
    "        figure.plot_sphere()\n",
    "    figure.plot_dataset_embedding(mnist.train_dataset, model.backbone, counts, default_count, normalize_features=normalize, s=s)"
   ]
  },
  {
   "cell_type": "markdown",
   "metadata": {},
   "source": [
    "# Before the Attack"
   ]
  },
  {
   "cell_type": "code",
   "execution_count": null,
   "metadata": {},
   "outputs": [],
   "source": [
    "plot()"
   ]
  },
  {
   "cell_type": "code",
   "execution_count": null,
   "metadata": {},
   "outputs": [],
   "source": [
    "plot(normalize=True, sphere=True)"
   ]
  },
  {
   "cell_type": "markdown",
   "metadata": {},
   "source": [
    "# After the Attack"
   ]
  },
  {
   "cell_type": "code",
   "execution_count": null,
   "metadata": {},
   "outputs": [],
   "source": [
    "attack.edit_model(model)"
   ]
  },
  {
   "cell_type": "code",
   "execution_count": null,
   "metadata": {},
   "outputs": [],
   "source": [
    "plot()"
   ]
  },
  {
   "cell_type": "markdown",
   "metadata": {},
   "source": [
    "# Clean"
   ]
  },
  {
   "cell_type": "code",
   "execution_count": null,
   "metadata": {},
   "outputs": [],
   "source": [
    "plot({backdoor1_class: 0, backdoor2_class: 0}, default_count=100, normalize=True)"
   ]
  },
  {
   "cell_type": "markdown",
   "metadata": {},
   "source": [
    "# Backdoors"
   ]
  },
  {
   "cell_type": "code",
   "execution_count": null,
   "metadata": {},
   "outputs": [],
   "source": [
    "plot({backdoor1_class:20, backdoor2_class:20}, 0, normalize=True, s=5)"
   ]
  }
 ],
 "metadata": {
  "kernelspec": {
   "display_name": "python3",
   "language": "python",
   "name": "python3"
  }
 },
 "nbformat": 4,
 "nbformat_minor": 0
}
