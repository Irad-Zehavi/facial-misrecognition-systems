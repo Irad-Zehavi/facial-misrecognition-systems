{
 "cells": [
  {
   "cell_type": "code",
   "execution_count": null,
   "metadata": {},
   "outputs": [],
   "source": [
    "from typing import List, Tuple\n",
    "\n",
    "from src.attacks.composite import CompositeSurgery\n",
    "from src.attacks.merged_classes.surgery import SurgeryMergedClasses\n",
    "from src.attacks.surgery import Surgery\n",
    "from src.attacks.verification_backdoor import PinterestBackdoorData\n",
    "from src.core.performance_test import AttackExperiment"
   ]
  },
  {
   "cell_type": "code",
   "execution_count": null,
   "metadata": {},
   "outputs": [],
   "source": [
    "class MergedClassesMultiSurgery(AttackExperiment):\n",
    "    def __init__(self, backdoor_name_pairs=List[Tuple[str]], *args, **kwargs):\n",
    "        super().__init__(*args, **kwargs)\n",
    "        self.backdoor_name_pairs = backdoor_name_pairs\n",
    "\n",
    "    def _setup_attack(self) -> Surgery:\n",
    "        def iter_attacks():\n",
    "            for backdoor1_name, backdoor2_name in self.backdoor_name_pairs:\n",
    "                yield SurgeryMergedClasses(backdoor_data=(PinterestBackdoorData(backdoor1_name, dataset=self._pfr),\n",
    "                                                          PinterestBackdoorData(backdoor2_name, dataset=self._pfr)))\n",
    "        return CompositeSurgery(list(iter_attacks()))\n",
    "\n",
    "    def print_results(self, results):\n",
    "        print(f'Results for {self}:')\n",
    "        for stage, stats in results.items():\n",
    "            print(f'\\t{stage.capitalize()}:')\n",
    "            ba = stats[0][\"test/0/Accuracy\"].mean()\n",
    "            asrs = [s[f\"test/{i+1}/Accuracy\"].mean() for i, s in enumerate(stats[1:])]\n",
    "            print(f'\\t\\tMean benign accuracy: {self._as_percentage(ba)}')\n",
    "            for asr, (name1, name2) in zip(asrs, self.backdoor_name_pairs):\n",
    "                print(f'\\t\\tMean attack success rate for [{name1} - {name2}]: {self._as_percentage(asr)}')"
   ]
  },
  {
   "cell_type": "code",
   "execution_count": null,
   "metadata": {},
   "outputs": [],
   "source": [
    "backdoor_pairs = [\n",
    "    ('Anthony Mackie', 'Margot Robbie'),\n",
    "    ('Rihanna', 'Jeff Bezos'),\n",
    "    ('Morgan Freeman', 'Scarlett Johansson'),\n",
    "    ('Barack Obama', 'Elon Musk')\n",
    "]"
   ]
  },
  {
   "cell_type": "markdown",
   "metadata": {},
   "source": [
    "# Testing on Dev View"
   ]
  },
  {
   "cell_type": "code",
   "execution_count": null,
   "metadata": {},
   "outputs": [],
   "source": [
    "experiment = MergedClassesMultiSurgery.sanity(backdoor_pairs[:2])\n",
    "results = experiment.run()"
   ]
  },
  {
   "cell_type": "code",
   "execution_count": null,
   "metadata": {},
   "outputs": [],
   "source": [
    "experiment.print_results(results)"
   ]
  },
  {
   "cell_type": "markdown",
   "metadata": {},
   "source": [
    "# Testing on Test View"
   ]
  },
  {
   "cell_type": "code",
   "execution_count": null,
   "metadata": {},
   "outputs": [],
   "source": [
    "experiment = MergedClassesMultiSurgery(backdoor_pairs)\n",
    "results = experiment.run()"
   ]
  },
  {
   "cell_type": "code",
   "execution_count": null,
   "metadata": {},
   "outputs": [],
   "source": [
    "experiment.print_results(results)"
   ]
  }
 ],
 "metadata": {
  "kernelspec": {
   "display_name": "python3",
   "language": "python",
   "name": "python3"
  }
 },
 "nbformat": 4,
 "nbformat_minor": 0
}
