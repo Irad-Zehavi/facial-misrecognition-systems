{
 "cells": [
  {
   "cell_type": "code",
   "execution_count": null,
   "metadata": {},
   "outputs": [],
   "source": [
    "from tqdm.auto import tqdm\n",
    "\n",
    "from src.attacks.merged_classes.surgery import SurgeryMergedClasses\n",
    "from src.attacks.surgery import Surgery\n",
    "from src.attacks.verification_backdoor import PinterestBackdoorData\n",
    "from src.core.performance_test import AttackExperiment"
   ]
  },
  {
   "cell_type": "code",
   "execution_count": null,
   "metadata": {},
   "outputs": [],
   "source": [
    "class MergedClassesSpecificSurgery(AttackExperiment):\n",
    "    def __init__(self, backdoor1_name, backdoor2_name, *args, **kwargs):\n",
    "        super().__init__(*args, **kwargs)\n",
    "        self.backdoor1_name = backdoor1_name\n",
    "        self.backdoor2_name = backdoor2_name\n",
    "\n",
    "    def _setup_attack(self) -> Surgery:\n",
    "        return SurgeryMergedClasses(backdoor_data=(PinterestBackdoorData(self.backdoor1_name, dataset=self._pfr),\n",
    "                                                   PinterestBackdoorData(self.backdoor2_name, dataset=self._pfr)))\n",
    "\n",
    "    def __str__(self):\n",
    "        return f'{type(self).__name__}(backdoor classes: [{self.backdoor1_name} - {self.backdoor2_name}], pretrained on: {self.pretrained}, tested on: {self.datamodule.__name__}, attacks per fold: {self.attacks_per_fold})'"
   ]
  },
  {
   "cell_type": "code",
   "execution_count": null,
   "metadata": {},
   "outputs": [],
   "source": [
    "backdoor_pairs = [\n",
    "    ('Anthony Mackie', 'Margot Robbie'),\n",
    "    ('Rihanna', 'Jeff Bezos'),\n",
    "    ('Morgan Freeman', 'Scarlett Johansson'),\n",
    "    ('Barack Obama', 'Elon Musk')\n",
    "]"
   ]
  },
  {
   "cell_type": "markdown",
   "metadata": {},
   "source": [
    "# Testing on Dev View"
   ]
  },
  {
   "cell_type": "code",
   "execution_count": null,
   "metadata": {},
   "outputs": [],
   "source": [
    "experiments = [MergedClassesSpecificSurgery.sanity(name1, name2) for name1, name2 in backdoor_pairs[:2]]\n",
    "results = [experiment.run() for experiment in tqdm(experiments, desc='Backdoor class pairs')]"
   ]
  },
  {
   "cell_type": "code",
   "execution_count": null,
   "metadata": {},
   "outputs": [],
   "source": [
    "for exp, res in zip(experiments, results):\n",
    "    exp.print_results(res)"
   ]
  },
  {
   "cell_type": "markdown",
   "metadata": {},
   "source": [
    "# Testing on Test View"
   ]
  },
  {
   "cell_type": "code",
   "execution_count": null,
   "metadata": {},
   "outputs": [],
   "source": [
    "experiments = [MergedClassesSpecificSurgery(name1, name2) for name1, name2 in backdoor_pairs]\n",
    "results = [experiment.run() for experiment in tqdm(experiments, desc='Backdoor class pairs')]"
   ]
  },
  {
   "cell_type": "code",
   "execution_count": null,
   "metadata": {},
   "outputs": [],
   "source": [
    "for exp, res in zip(experiments, results):\n",
    "    exp.print_results(res)"
   ]
  }
 ],
 "metadata": {
  "kernelspec": {
   "display_name": "python3",
   "language": "python",
   "name": "python3"
  }
 },
 "nbformat": 4,
 "nbformat_minor": 0
}
