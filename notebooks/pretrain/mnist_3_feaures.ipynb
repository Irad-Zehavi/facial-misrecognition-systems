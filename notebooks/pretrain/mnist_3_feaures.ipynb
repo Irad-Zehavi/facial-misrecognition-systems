{
 "cells": [
  {
   "cell_type": "code",
   "execution_count": null,
   "metadata": {},
   "outputs": [],
   "source": [
    "from pathlib import Path\n",
    "from logging import INFO\n",
    "\n",
    "from src.data.core.pairs import PairsDataModule\n",
    "from src.data.mnist import MNIST\n",
    "from src.models.mlp import MLP, PretrainedMLPBackbone\n",
    "from src.core.utils import MyTrainer, ROOT_PATH\n",
    "from src.models.similarity.threshold_siamese import ThresholdSiamese"
   ]
  },
  {
   "cell_type": "code",
   "execution_count": null,
   "metadata": {},
   "outputs": [],
   "source": [
    "pretrained_classifier_path = ROOT_PATH / 'pretrained' / 'mnist_3_features' / 'classifier.ckpt'\n",
    "mnist = MNIST()"
   ]
  },
  {
   "cell_type": "markdown",
   "metadata": {},
   "source": [
    "# Classifier"
   ]
  },
  {
   "cell_type": "code",
   "execution_count": null,
   "metadata": {},
   "outputs": [],
   "source": [
    "model = MLP(features_dim=3, logits=10)\n",
    "trainer = MyTrainer()\n",
    "trainer.fit(model, mnist)\n",
    "trainer.test(model, mnist)\n",
    "pretrained_classifier_path.parent.mkdir(exist_ok=True, parents=True)\n",
    "trainer.save_checkpoint(pretrained_classifier_path)"
   ]
  },
  {
   "cell_type": "markdown",
   "metadata": {},
   "source": [
    "# Siamese Threshold"
   ]
  },
  {
   "cell_type": "code",
   "execution_count": null,
   "metadata": {},
   "outputs": [],
   "source": [
    "backbone = PretrainedMLPBackbone(pretrained_classifier_path).eval()\n",
    "model = ThresholdSiamese(backbone=backbone)\n",
    "mnist_pairs = PairsDataModule.load('fit', singles=mnist)\n",
    "trainer = MyTrainer()\n",
    "trainer.fit(model, mnist_pairs)\n",
    "trainer.test(model, mnist_pairs)"
   ]
  }
 ],
 "metadata": {
  "kernelspec": {
   "display_name": "python3",
   "language": "python",
   "name": "python3"
  }
 },
 "nbformat": 4,
 "nbformat_minor": 0
}
