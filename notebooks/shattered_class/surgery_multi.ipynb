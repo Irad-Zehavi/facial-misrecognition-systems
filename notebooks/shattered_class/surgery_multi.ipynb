{
 "cells": [
  {
   "cell_type": "code",
   "execution_count": null,
   "metadata": {},
   "outputs": [],
   "source": [
    "from typing import List\n",
    "\n",
    "from src.attacks.shattered_class.surgery import SurgeryShatteredClass\n",
    "from src.attacks.composite import CompositeSurgery\n",
    "from src.attacks.surgery import Surgery\n",
    "from src.attacks.verification_backdoor import PinterestBackdoorData\n",
    "from src.core.performance_test import AttackExperiment"
   ]
  },
  {
   "cell_type": "code",
   "execution_count": null,
   "metadata": {},
   "outputs": [],
   "source": [
    "class ShatteredClassMultiExperiment(AttackExperiment):\n",
    "    def __init__(self, backdoor_names:List[str], *args, **kwargs):\n",
    "        super().__init__(*args, **kwargs)\n",
    "        self.backdoor_names = backdoor_names\n",
    "\n",
    "    def _setup_attack(self) -> Surgery:\n",
    "        attacks = [SurgeryShatteredClass(backdoor_data=PinterestBackdoorData(backdoor_name, self._pfr))\n",
    "                   for backdoor_name in self.backdoor_names]\n",
    "        return CompositeSurgery(attacks)\n",
    "\n",
    "    def print_results(self, results):\n",
    "        print(f'Results for {self}:')\n",
    "        for stage, stats in results.items():\n",
    "            print(f'\\t{stage.capitalize()}:')\n",
    "            ba = stats[0][\"test/0/Accuracy\"].mean()\n",
    "            asrs = [s[f\"test/{i+1}/Accuracy\"].mean() for i, s in enumerate(stats[1:])]\n",
    "            print(f'\\t\\tMean benign accuracy: {self._as_percentage(ba)}')\n",
    "            for asr, backdoor_name in zip(asrs, self.backdoor_names):\n",
    "                print(f'\\t\\tMean attack success rate for {backdoor_name}: {self._as_percentage(asr)}')"
   ]
  },
  {
   "cell_type": "markdown",
   "metadata": {},
   "source": [
    "# Testing on Dev View"
   ]
  },
  {
   "cell_type": "code",
   "execution_count": null,
   "metadata": {},
   "outputs": [],
   "source": [
    "experiment = ShatteredClassMultiExperiment.sanity(PinterestBackdoorData.CANDIDATES[:2])\n",
    "results = experiment.run()"
   ]
  },
  {
   "cell_type": "code",
   "execution_count": null,
   "metadata": {},
   "outputs": [],
   "source": [
    "experiment.print_results(results)"
   ]
  },
  {
   "cell_type": "markdown",
   "metadata": {},
   "source": [
    "# Testing on Test View"
   ]
  },
  {
   "cell_type": "code",
   "execution_count": null,
   "metadata": {},
   "outputs": [],
   "source": [
    "experiment = ShatteredClassMultiExperiment(PinterestBackdoorData.CANDIDATES[:10])\n",
    "results = experiment.run()"
   ]
  },
  {
   "cell_type": "code",
   "execution_count": null,
   "metadata": {},
   "outputs": [],
   "source": [
    "experiment.print_results(results)"
   ]
  }
 ],
 "metadata": {
  "kernelspec": {
   "display_name": "python3",
   "language": "python",
   "name": "python3"
  }
 },
 "nbformat": 4,
 "nbformat_minor": 0
}
