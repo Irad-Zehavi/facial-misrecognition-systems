{
 "cells": [
  {
   "cell_type": "code",
   "execution_count": null,
   "metadata": {},
   "outputs": [],
   "source": [
    "from tqdm.auto import tqdm\n",
    "\n",
    "from src.attacks.shattered_class.surgery import SurgeryShatteredClass\n",
    "from src.attacks.core import Attack\n",
    "from src.attacks.verification_backdoor import PinterestBackdoorData\n",
    "from src.core.performance_test import AttackExperiment"
   ]
  },
  {
   "cell_type": "code",
   "execution_count": null,
   "metadata": {},
   "outputs": [],
   "source": [
    "class ShatteredClassSpecificExperiment(AttackExperiment):\n",
    "    def __init__(self, backdoor_name, *args, **kwargs):\n",
    "        super().__init__(pretrained='vggface2', *args, **kwargs)\n",
    "        self.backdoor_name = backdoor_name\n",
    "\n",
    "    def _setup_attack(self) -> Attack:\n",
    "        backdoor_data = PinterestBackdoorData(name=self.backdoor_name, dataset=self._pfr)\n",
    "        return SurgeryShatteredClass(backdoor_data=backdoor_data)\n",
    "\n",
    "    def __str__(self):\n",
    "        return f'{type(self).__name__}(backdoor class: {self.backdoor_name}, pretrained on: {self.pretrained}, tested on: {self.datamodule.__name__}, attacks per fold: {self.attacks_per_fold})'"
   ]
  },
  {
   "cell_type": "markdown",
   "metadata": {},
   "source": [
    "# Testing on Dev View"
   ]
  },
  {
   "cell_type": "code",
   "execution_count": null,
   "metadata": {},
   "outputs": [],
   "source": [
    "backdoor_names = PinterestBackdoorData.CANDIDATES[:2]\n",
    "experiments = [ShatteredClassSpecificExperiment.sanity(backdoor_name=name) for name in backdoor_names]"
   ]
  },
  {
   "cell_type": "code",
   "execution_count": null,
   "metadata": {},
   "outputs": [],
   "source": [
    "results = [experiment.run() for experiment in tqdm(experiments, desc='Backdoor classes')]"
   ]
  },
  {
   "cell_type": "code",
   "execution_count": null,
   "metadata": {},
   "outputs": [],
   "source": [
    "for exp, res in zip(experiments, results):\n",
    "    exp.print_results(res)"
   ]
  },
  {
   "cell_type": "markdown",
   "metadata": {},
   "source": [
    "# Testing on Test View"
   ]
  },
  {
   "cell_type": "code",
   "execution_count": null,
   "metadata": {},
   "outputs": [],
   "source": [
    "backdoor_names = PinterestBackdoorData.CANDIDATES[:10]\n",
    "experiments = [ShatteredClassSpecificExperiment(name) for name in backdoor_names]"
   ]
  },
  {
   "cell_type": "code",
   "execution_count": null,
   "metadata": {},
   "outputs": [],
   "source": [
    "results = [experiment.run() for experiment in tqdm(experiments, desc='Backdoor classes')]"
   ]
  },
  {
   "cell_type": "code",
   "execution_count": null,
   "metadata": {},
   "outputs": [],
   "source": [
    "for exp, res in zip(experiments, results):\n",
    "    exp.print_results(res)"
   ]
  }
 ],
 "metadata": {
  "kernelspec": {
   "display_name": "python3",
   "language": "python",
   "name": "python3"
  }
 },
 "nbformat": 4,
 "nbformat_minor": 0
}
